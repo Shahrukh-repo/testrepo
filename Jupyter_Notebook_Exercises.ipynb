{
 "cells": [
  {
   "cell_type": "markdown",
   "metadata": {},
   "source": [
    "<center>\n",
    "    <img src=\"https://cf-courses-data.s3.us.cloud-object-storage.appdomain.cloud/IBMDeveloperSkillsNetwork-DS0105EN-SkillsNetwork/labs/Module2/images/SN_web_lightmode.png\" width=\"300\" alt=\"cognitiveclass.ai logo\">\n",
    "</center>\n"
   ]
  },
  {
   "cell_type": "markdown",
   "metadata": {},
   "source": [
    "#### Add your code below following the instructions given in the course\n"
   ]
  },
  {
   "cell_type": "markdown",
   "metadata": {
    "tags": []
   },
   "source": [
    "# Getting Started with Jupyter Notebook"
   ]
  },
  {
   "cell_type": "markdown",
   "metadata": {},
   "source": [
    "**This notebook explores some commonly used Jupyter Notebook commands.**"
   ]
  },
  {
   "cell_type": "markdown",
   "metadata": {},
   "source": [
    "Although there are a lot of languages that are used by data scientists but the most commonly used are:\n",
    "1. Python\n",
    "2. R\n",
    "3. SQL"
   ]
  },
  {
   "cell_type": "markdown",
   "metadata": {},
   "source": [
    "Data Science libraries contain pre-built functions that can be used by data scientists to implement commonly faced tasks. Some of the commonly used libraries are:\n",
    "1. Pandas\n",
    "2. NumPy\n",
    "3. SciPy\n",
    "4. Matplotlib"
   ]
  },
  {
   "cell_type": "markdown",
   "metadata": {},
   "source": [
    "|Data Science Tools|\n",
    "|-----------------|\n",
    "|Jupyter Notebook|\n",
    "|Watson Studio|\n",
    "|kafka|\n",
    "|mongoDB|\n",
    "|Informatica|\n",
    "|Oracle DB|\n",
    "|Azure Machine Learning|\n",
    "|Google Cloud|"
   ]
  },
  {
   "cell_type": "markdown",
   "metadata": {},
   "source": [
    "**Arithmetic Expressions**\n",
    "\n",
    "*Addition*\n",
    "<br>1+1 = 2\n",
    "\n",
    "*Substraction*\n",
    "<br>2-1 = 1\n",
    "\n",
    "*Multiplication*\n",
    "<br>2*2 = 4\n",
    "\n",
    "*Division*\n",
    "<br>4/2 = 2"
   ]
  },
  {
   "cell_type": "code",
   "execution_count": 5,
   "metadata": {},
   "outputs": [
    {
     "name": "stdin",
     "output_type": "stream",
     "text": [
      "Enter the first number:  2\n",
      "Enter the second number:  3\n"
     ]
    },
    {
     "name": "stdout",
     "output_type": "stream",
     "text": [
      "The result of addition of the numbers is:  5\n",
      "The result of multiplication of the numbers is:  6\n"
     ]
    }
   ],
   "source": [
    "#Sample Code to Add and Multiply Two Numbers\n",
    "\n",
    "first = int(input(\"Enter the first number: \"))\n",
    "second = int(input(\"Enter the second number: \"))\n",
    "print(\"The result of addition of the numbers is: \",first+second)\n",
    "print(\"The result of multiplication of the numbers is: \",first*second)"
   ]
  },
  {
   "cell_type": "code",
   "execution_count": 6,
   "metadata": {},
   "outputs": [
    {
     "name": "stdin",
     "output_type": "stream",
     "text": [
      "Enter the minutes to be converted to hours:  120\n"
     ]
    },
    {
     "name": "stdout",
     "output_type": "stream",
     "text": [
      "Hours =  2.0\n"
     ]
    }
   ],
   "source": [
    "#Sample Code to convert minutes to hours\n",
    "\n",
    "minutes = int(input(\"Enter the minutes to be converted to hours: \"))\n",
    "print(\"Hours = \", minutes/60)"
   ]
  },
  {
   "cell_type": "markdown",
   "metadata": {},
   "source": [
    "I am interested in data science because it gives me an opportunity to combine my curious mind with powerful analytical tools to have some fun with data and trends. For my first data science project, I am interested in exploring air pollution related dataset."
   ]
  },
  {
   "cell_type": "markdown",
   "metadata": {},
   "source": [
    "This notebook is created by Syed Shahrukh Hasan"
   ]
  }
 ],
 "metadata": {
  "kernelspec": {
   "display_name": "Python",
   "language": "python",
   "name": "conda-env-python-py"
  },
  "language_info": {
   "codemirror_mode": {
    "name": "ipython",
    "version": 3
   },
   "file_extension": ".py",
   "mimetype": "text/x-python",
   "name": "python",
   "nbconvert_exporter": "python",
   "pygments_lexer": "ipython3",
   "version": "3.7.12"
  }
 },
 "nbformat": 4,
 "nbformat_minor": 4
}
