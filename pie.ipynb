{
  "metadata": {
    "language_info": {
      "codemirror_mode": {
        "name": "python",
        "version": 3
      },
      "file_extension": ".py",
      "mimetype": "text/x-python",
      "name": "python",
      "nbconvert_exporter": "python",
      "pygments_lexer": "ipython3",
      "version": "3.8"
    },
    "kernelspec": {
      "name": "python",
      "display_name": "Python (Pyodide)",
      "language": "python"
    }
  },
  "nbformat_minor": 4,
  "nbformat": 4,
  "cells": [
    {
      "cell_type": "markdown",
      "source": "# My Jupyter Notebook on IBM Watson Studio",
      "metadata": {}
    },
    {
      "cell_type": "markdown",
      "source": "**Syed Shahrukh Hasan**\n<br>Senior Consultant",
      "metadata": {}
    },
    {
      "cell_type": "markdown",
      "source": "*I am interested in data science because it gives me an opportunity to combine my curious mind with powerful analytical tools to have some fun with data and trends.*",
      "metadata": {}
    },
    {
      "cell_type": "markdown",
      "source": "### The below code shows the value of the mathematical symbol π.",
      "metadata": {}
    },
    {
      "cell_type": "code",
      "source": "22/7",
      "metadata": {
        "trusted": true
      },
      "execution_count": 8,
      "outputs": [
        {
          "execution_count": 8,
          "output_type": "execute_result",
          "data": {
            "text/plain": "3.142857142857143"
          },
          "metadata": {}
        }
      ]
    },
    {
      "cell_type": "markdown",
      "source": "***\nThe symbol for Pi has been in use for over 250 years. \n***\n\n`The symbol was introduced by William Jones, a Welsh mathematician, in 1706. The symbol was made popular by the mathematician Leonhard Euler.`\n\nFind more details about π <a href=\"https://www.piday.org/pi-facts/\" target=\"_blank\">here</a>.",
      "metadata": {}
    },
    {
      "cell_type": "code",
      "source": "",
      "metadata": {},
      "execution_count": null,
      "outputs": []
    }
  ]
}